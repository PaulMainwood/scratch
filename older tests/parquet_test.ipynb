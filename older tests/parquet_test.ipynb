{
 "cells": [
  {
   "cell_type": "code",
   "execution_count": 18,
   "metadata": {},
   "outputs": [
    {
     "name": "stdout",
     "output_type": "stream",
     "text": [
      "The autoreload extension is already loaded. To reload it, use:\n",
      "  %reload_ext autoreload\n"
     ]
    }
   ],
   "source": [
    "import polars as pl\n",
    "import pandas as pd\n",
    "from polars import col\n",
    "import logging\n",
    "logging.basicConfig(\n",
    "    level=logging.INFO,  # or logging.DEBUG for more detailed output\n",
    "    format='%(asctime)s - %(levelname)s - %(message)s'\n",
    ")\n",
    "seed = 42\n",
    "%load_ext autoreload\n",
    "%autoreload 2"
   ]
  },
  {
   "cell_type": "code",
   "execution_count": null,
   "metadata": {},
   "outputs": [],
   "source": [
    "df_polars = pl.scan_parquet('/mnt/g/My Drive/Parquet/complete.parquet').with_row_index().filter(col(\"index\").hash(seed)%1 == 1).drop(\"index\")"
   ]
  },
  {
   "cell_type": "code",
   "execution_count": null,
   "metadata": {},
   "outputs": [],
   "source": [
    "df_polars.collect()"
   ]
  },
  {
   "cell_type": "code",
   "execution_count": 14,
   "metadata": {},
   "outputs": [
    {
     "ename": "TypeError",
     "evalue": "read_parquet() got an unexpected keyword argument 'streaming'",
     "output_type": "error",
     "traceback": [
      "\u001b[0;31m---------------------------------------------------------------------------\u001b[0m",
      "\u001b[0;31mTypeError\u001b[0m                                 Traceback (most recent call last)",
      "Cell \u001b[0;32mIn[14], line 1\u001b[0m\n\u001b[0;32m----> 1\u001b[0m df_polars \u001b[38;5;241m=\u001b[39m \u001b[43mpl\u001b[49m\u001b[38;5;241;43m.\u001b[39;49m\u001b[43mread_parquet\u001b[49m\u001b[43m(\u001b[49m\u001b[38;5;124;43m'\u001b[39;49m\u001b[38;5;124;43m/mnt/g/My Drive/Parquet/complete.parquet\u001b[39;49m\u001b[38;5;124;43m'\u001b[39;49m\u001b[43m,\u001b[49m\u001b[43m \u001b[49m\u001b[43mstreaming\u001b[49m\u001b[43m \u001b[49m\u001b[38;5;241;43m=\u001b[39;49m\u001b[43m \u001b[49m\u001b[38;5;28;43;01mTrue\u001b[39;49;00m\u001b[43m)\u001b[49m\n",
      "File \u001b[0;32m~/projects/scratch/.venv/lib/python3.10/site-packages/polars/_utils/deprecation.py:92\u001b[0m, in \u001b[0;36mdeprecate_renamed_parameter.<locals>.decorate.<locals>.wrapper\u001b[0;34m(*args, **kwargs)\u001b[0m\n\u001b[1;32m     87\u001b[0m \u001b[38;5;129m@wraps\u001b[39m(function)\n\u001b[1;32m     88\u001b[0m \u001b[38;5;28;01mdef\u001b[39;00m \u001b[38;5;21mwrapper\u001b[39m(\u001b[38;5;241m*\u001b[39margs: P\u001b[38;5;241m.\u001b[39margs, \u001b[38;5;241m*\u001b[39m\u001b[38;5;241m*\u001b[39mkwargs: P\u001b[38;5;241m.\u001b[39mkwargs) \u001b[38;5;241m-\u001b[39m\u001b[38;5;241m>\u001b[39m T:\n\u001b[1;32m     89\u001b[0m     _rename_keyword_argument(\n\u001b[1;32m     90\u001b[0m         old_name, new_name, kwargs, function\u001b[38;5;241m.\u001b[39m\u001b[38;5;18m__qualname__\u001b[39m, version\n\u001b[1;32m     91\u001b[0m     )\n\u001b[0;32m---> 92\u001b[0m     \u001b[38;5;28;01mreturn\u001b[39;00m \u001b[43mfunction\u001b[49m\u001b[43m(\u001b[49m\u001b[38;5;241;43m*\u001b[39;49m\u001b[43margs\u001b[49m\u001b[43m,\u001b[49m\u001b[43m \u001b[49m\u001b[38;5;241;43m*\u001b[39;49m\u001b[38;5;241;43m*\u001b[39;49m\u001b[43mkwargs\u001b[49m\u001b[43m)\u001b[49m\n",
      "File \u001b[0;32m~/projects/scratch/.venv/lib/python3.10/site-packages/polars/_utils/deprecation.py:92\u001b[0m, in \u001b[0;36mdeprecate_renamed_parameter.<locals>.decorate.<locals>.wrapper\u001b[0;34m(*args, **kwargs)\u001b[0m\n\u001b[1;32m     87\u001b[0m \u001b[38;5;129m@wraps\u001b[39m(function)\n\u001b[1;32m     88\u001b[0m \u001b[38;5;28;01mdef\u001b[39;00m \u001b[38;5;21mwrapper\u001b[39m(\u001b[38;5;241m*\u001b[39margs: P\u001b[38;5;241m.\u001b[39margs, \u001b[38;5;241m*\u001b[39m\u001b[38;5;241m*\u001b[39mkwargs: P\u001b[38;5;241m.\u001b[39mkwargs) \u001b[38;5;241m-\u001b[39m\u001b[38;5;241m>\u001b[39m T:\n\u001b[1;32m     89\u001b[0m     _rename_keyword_argument(\n\u001b[1;32m     90\u001b[0m         old_name, new_name, kwargs, function\u001b[38;5;241m.\u001b[39m\u001b[38;5;18m__qualname__\u001b[39m, version\n\u001b[1;32m     91\u001b[0m     )\n\u001b[0;32m---> 92\u001b[0m     \u001b[38;5;28;01mreturn\u001b[39;00m \u001b[43mfunction\u001b[49m\u001b[43m(\u001b[49m\u001b[38;5;241;43m*\u001b[39;49m\u001b[43margs\u001b[49m\u001b[43m,\u001b[49m\u001b[43m \u001b[49m\u001b[38;5;241;43m*\u001b[39;49m\u001b[38;5;241;43m*\u001b[39;49m\u001b[43mkwargs\u001b[49m\u001b[43m)\u001b[49m\n",
      "\u001b[0;31mTypeError\u001b[0m: read_parquet() got an unexpected keyword argument 'streaming'"
     ]
    }
   ],
   "source": [
    "df_polars = pl.read_parquet('/mnt/g/My Drive/Parquet/complete.parquet', streaming = True)"
   ]
  },
  {
   "cell_type": "code",
   "execution_count": 11,
   "metadata": {},
   "outputs": [
    {
     "name": "stderr",
     "output_type": "stream",
     "text": [
      "/tmp/ipykernel_385603/3505771063.py:1: PerformanceWarning: Determining the column names of a LazyFrame requires resolving its schema, which is a potentially expensive operation. Use `LazyFrame.collect_schema().names()` to get the column names without this warning.\n",
      "  df_polars.columns\n"
     ]
    },
    {
     "data": {
      "text/plain": [
       "['21.863695067631497',\n",
       " '8.348331321746011',\n",
       " '-2.9197991578143228',\n",
       " '21.860952652462522',\n",
       " '8.348742871387119',\n",
       " '-2.9199175314005803',\n",
       " '92.0',\n",
       " '91.0',\n",
       " '86.0',\n",
       " '1249.9877708334068',\n",
       " '0.0',\n",
       " '3.0',\n",
       " '__index_level_0__']"
      ]
     },
     "execution_count": 11,
     "metadata": {},
     "output_type": "execute_result"
    }
   ],
   "source": [
    "df_polars.columns"
   ]
  },
  {
   "cell_type": "code",
   "execution_count": null,
   "metadata": {},
   "outputs": [],
   "source": [
    "df_pandas = pd.read_parquet('/mnt/g/My Drive/Parquet/complete.parquet', engine='auto')"
   ]
  },
  {
   "cell_type": "code",
   "execution_count": null,
   "metadata": {},
   "outputs": [
    {
     "name": "stdout",
     "output_type": "stream",
     "text": [
      "shape: (50, 13)\n",
      "┌─────────────┬─────────────┬─────────────┬─────────────┬───┬─────────────┬─────┬─────┬────────────┐\n",
      "│ 21.86369506 ┆ 8.348331321 ┆ -2.91979915 ┆ 21.86095265 ┆ … ┆ 1249.987770 ┆ 0.0 ┆ 3.0 ┆ __index_le │\n",
      "│ 7631497     ┆ 746011      ┆ 78143228    ┆ 2462522     ┆   ┆ 8334068     ┆ --- ┆ --- ┆ vel_0__    │\n",
      "│ ---         ┆ ---         ┆ ---         ┆ ---         ┆   ┆ ---         ┆ f64 ┆ f64 ┆ ---        │\n",
      "│ f64         ┆ f64         ┆ f64         ┆ f64         ┆   ┆ f64         ┆     ┆     ┆ i64        │\n",
      "╞═════════════╪═════════════╪═════════════╪═════════════╪═══╪═════════════╪═════╪═════╪════════════╡\n",
      "│ 17.211552   ┆ 8.310244    ┆ -2.919799   ┆ 17.21599    ┆ … ┆ 1249.987774 ┆ 0.0 ┆ 3.0 ┆ 0          │\n",
      "│ 12.981031   ┆ 8.275608    ┆ -2.9198     ┆ 12.980513   ┆ … ┆ 1249.987778 ┆ 0.0 ┆ 3.0 ┆ 1          │\n",
      "│ 9.117238    ┆ 8.243974    ┆ -2.9198     ┆ 9.121491    ┆ … ┆ 1249.987781 ┆ 0.0 ┆ 3.0 ┆ 2          │\n",
      "│ 5.574515    ┆ 8.214969    ┆ -2.919801   ┆ 5.574496    ┆ … ┆ 1249.987785 ┆ 0.0 ┆ 3.0 ┆ 3          │\n",
      "│ 2.31437     ┆ 8.188278    ┆ -2.919801   ┆ 2.312138    ┆ … ┆ 1249.987788 ┆ 0.0 ┆ 3.0 ┆ 4          │\n",
      "│ …           ┆ …           ┆ …           ┆ …           ┆ … ┆ …           ┆ …   ┆ …   ┆ …          │\n",
      "│ -46.390939  ┆ 7.78952     ┆ -2.919809   ┆ -46.386458  ┆ … ┆ 1249.987931 ┆ 0.0 ┆ 3.0 ┆ 45         │\n",
      "│ -46.835265  ┆ 7.785882    ┆ -2.919808   ┆ -46.838899  ┆ … ┆ 1249.987934 ┆ 0.0 ┆ 3.0 ┆ 46         │\n",
      "│ -47.266548  ┆ 7.782351    ┆ -2.919808   ┆ -47.268112  ┆ … ┆ 1249.987938 ┆ 0.0 ┆ 3.0 ┆ 47         │\n",
      "│ -47.68535   ┆ 7.778923    ┆ -2.919809   ┆ -47.680544  ┆ … ┆ 1249.987941 ┆ 0.0 ┆ 3.0 ┆ 48         │\n",
      "│ -48.092221  ┆ 7.775591    ┆ -2.919808   ┆ -48.096437  ┆ … ┆ 1249.987944 ┆ 0.0 ┆ 3.0 ┆ 49         │\n",
      "└─────────────┴─────────────┴─────────────┴─────────────┴───┴─────────────┴─────┴─────┴────────────┘\n"
     ]
    },
    {
     "name": "stderr",
     "output_type": "stream",
     "text": [
      "/tmp/ipykernel_215084/1258670819.py:1: DeprecationWarning: `LazyFrame.fetch` is deprecated. `LazyFrame.fetch` is deprecated; use `LazyFrame.collect` instead, in conjunction with a call to `head`.\n",
      "  print(df_polars.fetch(50))\n"
     ]
    }
   ],
   "source": []
  },
  {
   "cell_type": "code",
   "execution_count": null,
   "metadata": {},
   "outputs": [],
   "source": []
  }
 ],
 "metadata": {
  "kernelspec": {
   "display_name": ".venv",
   "language": "python",
   "name": "python3"
  },
  "language_info": {
   "codemirror_mode": {
    "name": "ipython",
    "version": 3
   },
   "file_extension": ".py",
   "mimetype": "text/x-python",
   "name": "python",
   "nbconvert_exporter": "python",
   "pygments_lexer": "ipython3",
   "version": "3.10.12"
  }
 },
 "nbformat": 4,
 "nbformat_minor": 2
}
